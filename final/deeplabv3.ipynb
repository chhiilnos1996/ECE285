{
 "cells": [
  {
   "cell_type": "markdown",
   "metadata": {},
   "source": [
    "# Project D - Severstal Steel Defect Detection Kaggle Competition \n",
    "## Semantic Segmentation of steel defects\n",
    "### Authors: Utkrisht Rajkumar, Subrato Chakravorty, Chi-Hsin Lo\n",
    "\n",
    "This is the file used to train and benchmark DeepLabV3+. We tested this model with a width 0.5 times the width of the original model by modifying **alpha** in the call to Deeplabv3(), as this moderates the width."
   ]
  },
  {
   "cell_type": "code",
   "execution_count": null,
   "metadata": {
    "_cell_guid": "b1076dfc-b9ad-4769-8c92-a6c4dae69d19",
    "_uuid": "8f2839f25d086af736a60e9eeb907d3b93b6e0e5"
   },
   "outputs": [],
   "source": [
    "import os\n",
    "import json\n",
    "import gc\n",
    "import cv2\n",
    "import tensorflow as tf\n",
    "from tensorflow.python.keras import backend as K\n",
    "from tensorflow.python.keras import layers\n",
    "from tensorflow.python.keras.preprocessing.image import ImageDataGenerator\n",
    "from tensorflow.python.keras.models import Model, load_model\n",
    "from tensorflow.python.keras.layers import concatenate, Input\n",
    "from tensorflow.python.keras.layers import *\n",
    "from tensorflow.python.keras.optimizers import Adam\n",
    "from tensorflow.python.keras.callbacks import Callback, ModelCheckpoint\n",
    "import matplotlib.pyplot as plt\n",
    "from tensorflow.python.keras.utils import multi_gpu_model\n",
    "import keras\n",
    "from model import Deeplabv3\n",
    "import numpy as np\n",
    "import pandas as pd\n",
    "from tqdm import tqdm\n",
    "from utils import dice_coef, bce_dice, post_process\n",
    "from data_gen import DataGenerator"
   ]
  },
  {
   "cell_type": "markdown",
   "metadata": {},
   "source": [
    "## Preprocessing"
   ]
  },
  {
   "cell_type": "code",
   "execution_count": null,
   "metadata": {
    "_cell_guid": "79c7e3d0-c299-4dcb-8224-4455121ee9b0",
    "_uuid": "d629ff2d2480ee46fbb7e2d37f6b5fab8052498a"
   },
   "outputs": [],
   "source": [
    "train_df = pd.read_csv('../input/train.csv')\n",
    "train_df['ImageId'] = train_df['ImageId_ClassId'].apply(lambda x: x.split('_')[0])\n",
    "train_df['ClassId'] = train_df['ImageId_ClassId'].apply(lambda x: x.split('_')[1])\n",
    "train_df['hasMask'] = ~ train_df['EncodedPixels'].isna()\n",
    "mask_count_df = train_df.groupby('ImageId').agg(np.sum).reset_index()\n",
    "mask_count_df.sort_values('hasMask', ascending=False, inplace=True)"
   ]
  },
  {
   "cell_type": "code",
   "execution_count": null,
   "metadata": {},
   "outputs": [],
   "source": [
    "BATCH_SIZE = 16\n",
    "\n",
    "train_idx = np.load('train_idx.npy')\n",
    "val_idx = np.load('val_idx.npy')\n",
    "\n",
    "train_generator = DataGenerator(train_idx, df=mask_count_df, target_df=train_df, batch_size=BATCH_SIZE, n_classes=4)\n",
    "val_generator = DataGenerator(val_idx, df=mask_count_df, target_df=train_df, batch_size=BATCH_SIZE, n_classes=4)"
   ]
  },
  {
   "cell_type": "markdown",
   "metadata": {},
   "source": [
    "## Model"
   ]
  },
  {
   "cell_type": "code",
   "execution_count": null,
   "metadata": {
    "scrolled": true
   },
   "outputs": [],
   "source": [
    "deeplab_model = Deeplabv3(input_shape=(256, 1600, 1), alpha =0.5, classes=4) \n",
    "deeplab_model.compile(optimizer='adam', loss=bce_dice, metrics=[dice_coef])\n",
    "checkpoint = ModelCheckpoint('./models/deeplabv3.h5', monitor='val_dice_coef', verbose=0, \n",
    "                             save_best_only=True, save_weights_only=False, mode='auto')\n",
    "deeplab_history = deeplab_model.fit_generator(train_generator, validation_data=val_generator, verbose=0,\n",
    "                              callbacks=[checkpoint], use_multiprocessing=False, workers=1, epochs=20)\n",
    "pd.DataFrame(deeplab_history.history).to_csv('./history/deeplab_1.csv')"
   ]
  }
 ],
 "metadata": {
  "kernelspec": {
   "display_name": "Python 3",
   "language": "python",
   "name": "python3"
  },
  "language_info": {
   "codemirror_mode": {
    "name": "ipython",
    "version": 3
   },
   "file_extension": ".py",
   "mimetype": "text/x-python",
   "name": "python",
   "nbconvert_exporter": "python",
   "pygments_lexer": "ipython3",
   "version": "3.7.3"
  }
 },
 "nbformat": 4,
 "nbformat_minor": 1
}
